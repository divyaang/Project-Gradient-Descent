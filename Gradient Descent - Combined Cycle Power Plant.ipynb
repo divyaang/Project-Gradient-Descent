{
 "cells": [
  {
   "cell_type": "code",
   "execution_count": 1,
   "metadata": {},
   "outputs": [],
   "source": [
    "import numpy as np\n",
    "from sklearn import preprocessing"
   ]
  },
  {
   "cell_type": "code",
   "execution_count": 2,
   "metadata": {},
   "outputs": [],
   "source": [
    "def step_gradient(points, learning_rate, m):\n",
    "    m_slope = np.zeros(points.shape[1])\n",
    "    \n",
    "    M = len(points)\n",
    "    for i in range(M):\n",
    "        x = points[i,:(points.shape[1]-1)]\n",
    "        x = np.append(x,1)\n",
    "        y = points[i,points.shape[1]-1]\n",
    "        \n",
    "        for j in range(points.shape[1]):\n",
    "            m_slope[j] += (-2/M)* (y-(m*x).sum())*x[j]\n",
    "    \n",
    "    new_m = m - learning_rate*m_slope\n",
    "    \n",
    "    return new_m"
   ]
  },
  {
   "cell_type": "code",
   "execution_count": 3,
   "metadata": {},
   "outputs": [],
   "source": [
    "def gd(points, learning_rate, num_iterations):\n",
    "    m = np.zeros(points.shape[1])\n",
    "    for i in range(num_iterations):\n",
    "        m = step_gradient(points, learning_rate, m)\n",
    "        #print((i+1), \" Cost: \", cost(points, m))\n",
    "    return m"
   ]
  },
  {
   "cell_type": "code",
   "execution_count": 4,
   "metadata": {},
   "outputs": [],
   "source": [
    "def cost(points, m):\n",
    "    total_cost = 0\n",
    "    M = len(points)\n",
    "    for i in range(M):\n",
    "        x = points[i][:(points.shape[1]-1)]\n",
    "        x = np.append(x,1)\n",
    "        y = points[i][points.shape[1]-1]\n",
    "        total_cost += (1/M)*(((y-(m*x)).sum())**2)\n",
    "    return total_cost"
   ]
  },
  {
   "cell_type": "code",
   "execution_count": 5,
   "metadata": {},
   "outputs": [],
   "source": [
    "def pred(data, m):\n",
    "    ms = m[:-1]\n",
    "    c = m[-1]\n",
    "    ans = []\n",
    "    \n",
    "    for d in data:\n",
    "        ans.append((ms*d).sum() + c)\n",
    "        \n",
    "    return ans"
   ]
  },
  {
   "cell_type": "code",
   "execution_count": 6,
   "metadata": {},
   "outputs": [],
   "source": [
    "def run(data, learning_rate, num_iterations):\n",
    "    #learning_rate = 0.15\n",
    "    #num_iterations = 100\n",
    "    m = gd(data, learning_rate, num_iterations)\n",
    "    print(m)\n",
    "    return m"
   ]
  },
  {
   "cell_type": "code",
   "execution_count": 7,
   "metadata": {},
   "outputs": [],
   "source": [
    "train_data = np.loadtxt('train_power_plant.csv', delimiter=',')\n",
    "test_data = np.loadtxt('test_power_plant.csv', delimiter=',')"
   ]
  },
  {
   "cell_type": "code",
   "execution_count": 8,
   "metadata": {
    "scrolled": false
   },
   "outputs": [
    {
     "name": "stdout",
     "output_type": "stream",
     "text": [
      "[-1.49007707e+01 -2.89572783e+00  3.50104499e-01 -2.34166311e+00\n",
      "  4.54431293e+02]\n"
     ]
    }
   ],
   "source": [
    "scaler = preprocessing.StandardScaler()\n",
    "scaler.fit(train_data[:,:-1])\n",
    "\n",
    "fs = scaler.transform(train_data[:,:-1])\n",
    "\n",
    "train = np.insert(fs, train_data.shape[1]-1, train_data[:,-1], axis=1)\n",
    "test = scaler.transform(test_data)\n",
    "\n",
    "m1 = run(train, 0.2, 200)"
   ]
  },
  {
   "cell_type": "code",
   "execution_count": 9,
   "metadata": {},
   "outputs": [],
   "source": [
    "ans1  = pred(test, m1)\n",
    "np.savetxt(\"predictions_power_plant.csv\", ans1, delimiter=\",\")"
   ]
  },
  {
   "cell_type": "code",
   "execution_count": 10,
   "metadata": {},
   "outputs": [],
   "source": [
    "def score(y_truth, y_pred):\n",
    "    u = ((y_truth - y_pred)**2).sum()\n",
    "    v = ((y_truth - y_truth.mean())**2).sum()\n",
    "    return 1 - u/v"
   ]
  },
  {
   "cell_type": "code",
   "execution_count": 11,
   "metadata": {},
   "outputs": [
    {
     "name": "stdout",
     "output_type": "stream",
     "text": [
      "Coefficient of determination based on Training Data (With Feature Scaling) is: 0.9287631977982681\n"
     ]
    }
   ],
   "source": [
    "s1 = pred(train[:,:-1], m1)\n",
    "print('Coefficient of determination based on Training Data (With Feature Scaling) is:',score(train[:,-1], s1))"
   ]
  },
  {
   "cell_type": "code",
   "execution_count": null,
   "metadata": {},
   "outputs": [],
   "source": []
  }
 ],
 "metadata": {
  "kernelspec": {
   "display_name": "Python 3",
   "language": "python",
   "name": "python3"
  },
  "language_info": {
   "codemirror_mode": {
    "name": "ipython",
    "version": 3
   },
   "file_extension": ".py",
   "mimetype": "text/x-python",
   "name": "python",
   "nbconvert_exporter": "python",
   "pygments_lexer": "ipython3",
   "version": "3.7.3"
  }
 },
 "nbformat": 4,
 "nbformat_minor": 2
}
